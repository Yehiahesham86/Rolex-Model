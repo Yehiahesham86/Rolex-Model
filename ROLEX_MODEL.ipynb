{
 "cells": [
  {
   "cell_type": "code",
   "execution_count": 1,
   "metadata": {},
   "outputs": [],
   "source": [
    "import matplotlib.pyplot as plt\n",
    "import pandas as pd\n",
    "from sklearn.linear_model import LinearRegression,Ridge\n",
    "from sklearn.impute import SimpleImputer\n",
    "from sklearn.metrics import mean_absolute_error\n",
    "from sklearn.pipeline import make_pipeline\n",
    "from category_encoders import OneHotEncoder"
   ]
  },
  {
   "cell_type": "code",
   "execution_count": 2,
   "metadata": {},
   "outputs": [],
   "source": [
    "def wrangle(filepath):\n",
    "    df=pd.read_csv(filepath)\n",
    "    \n",
    "    \n",
    "    #price type from string to float\n",
    "    mask_RRp=df[\"RRP\"] != \"POR\"\n",
    "    df=df[mask_RRp]\n",
    "    df[\"RRP\"]=df[\"RRP\"].astype(float)\n",
    "    \n",
    "    #remove outlires\n",
    "    mask_price=df[\"RRP\"] < 150000\n",
    "    df=df[mask_price]\n",
    "    #drop columns with more than 50% null\n",
    "    df.drop(columns=\"Complication/2\",inplace=True)\n",
    "    \n",
    "    df.dropna(inplace=True)\n",
    "    df.drop(columns=\"Reference\",inplace=True)\n",
    "    #df.drop(columns=\"Description\",inplace=True)\n",
    "    df.rename(columns = {'Complication/0':'Complication_0', 'Complication/1':'Complication_1'}, inplace = True)\n",
    "    #df.drop(columns=\"Complication1\",inplace=True)\n",
    "    #df.drop(columns=\"Complication2\",inplace=True)\n",
    "\n",
    "    return df"
   ]
  },
  {
   "cell_type": "code",
   "execution_count": 3,
   "metadata": {},
   "outputs": [],
   "source": [
    "df=wrangle(\"data/Rolex_retail_original.csv\")"
   ]
  },
  {
   "cell_type": "code",
   "execution_count": 4,
   "metadata": {},
   "outputs": [
    {
     "data": {
      "text/html": [
       "<div>\n",
       "<style scoped>\n",
       "    .dataframe tbody tr th:only-of-type {\n",
       "        vertical-align: middle;\n",
       "    }\n",
       "\n",
       "    .dataframe tbody tr th {\n",
       "        vertical-align: top;\n",
       "    }\n",
       "\n",
       "    .dataframe thead th {\n",
       "        text-align: right;\n",
       "    }\n",
       "</style>\n",
       "<table border=\"1\" class=\"dataframe\">\n",
       "  <thead>\n",
       "    <tr style=\"text-align: right;\">\n",
       "      <th></th>\n",
       "      <th>Size</th>\n",
       "      <th>Collection</th>\n",
       "      <th>Description</th>\n",
       "      <th>RRP</th>\n",
       "      <th>Complication_0</th>\n",
       "      <th>Complication_1</th>\n",
       "    </tr>\n",
       "  </thead>\n",
       "  <tbody>\n",
       "    <tr>\n",
       "      <th>1</th>\n",
       "      <td>40</td>\n",
       "      <td>Cosmograph Daytona</td>\n",
       "      <td>Standard Dial</td>\n",
       "      <td>12600.0</td>\n",
       "      <td>Chronograph</td>\n",
       "      <td>Small Seconds</td>\n",
       "    </tr>\n",
       "    <tr>\n",
       "      <th>2</th>\n",
       "      <td>40</td>\n",
       "      <td>Cosmograph Daytona</td>\n",
       "      <td>Standard Dial</td>\n",
       "      <td>16800.0</td>\n",
       "      <td>Chronograph</td>\n",
       "      <td>Small Seconds</td>\n",
       "    </tr>\n",
       "    <tr>\n",
       "      <th>3</th>\n",
       "      <td>40</td>\n",
       "      <td>Cosmograph Daytona</td>\n",
       "      <td>Diamond Dial</td>\n",
       "      <td>18720.0</td>\n",
       "      <td>Chronograph</td>\n",
       "      <td>Small Seconds</td>\n",
       "    </tr>\n",
       "    <tr>\n",
       "      <th>4</th>\n",
       "      <td>40</td>\n",
       "      <td>Cosmograph Daytona</td>\n",
       "      <td>Mother of Pearl Diamond Dial</td>\n",
       "      <td>21360.0</td>\n",
       "      <td>Chronograph</td>\n",
       "      <td>Small Seconds</td>\n",
       "    </tr>\n",
       "    <tr>\n",
       "      <th>5</th>\n",
       "      <td>40</td>\n",
       "      <td>Cosmograph Daytona</td>\n",
       "      <td>Standard Dial</td>\n",
       "      <td>37860.0</td>\n",
       "      <td>Chronograph</td>\n",
       "      <td>Small Seconds</td>\n",
       "    </tr>\n",
       "  </tbody>\n",
       "</table>\n",
       "</div>"
      ],
      "text/plain": [
       "   Size          Collection                   Description      RRP  \\\n",
       "1    40  Cosmograph Daytona                 Standard Dial  12600.0   \n",
       "2    40  Cosmograph Daytona                 Standard Dial  16800.0   \n",
       "3    40  Cosmograph Daytona                  Diamond Dial  18720.0   \n",
       "4    40  Cosmograph Daytona  Mother of Pearl Diamond Dial  21360.0   \n",
       "5    40  Cosmograph Daytona                 Standard Dial  37860.0   \n",
       "\n",
       "  Complication_0  Complication_1  \n",
       "1    Chronograph   Small Seconds  \n",
       "2    Chronograph   Small Seconds  \n",
       "3    Chronograph   Small Seconds  \n",
       "4    Chronograph   Small Seconds  \n",
       "5    Chronograph   Small Seconds  "
      ]
     },
     "execution_count": 4,
     "metadata": {},
     "output_type": "execute_result"
    }
   ],
   "source": [
    "df.head()"
   ]
  },
  {
   "cell_type": "code",
   "execution_count": 5,
   "metadata": {},
   "outputs": [
    {
     "name": "stdout",
     "output_type": "stream",
     "text": [
      "<class 'pandas.core.frame.DataFrame'>\n",
      "Int64Index: 540 entries, 1 to 886\n",
      "Data columns (total 6 columns):\n",
      " #   Column          Non-Null Count  Dtype  \n",
      "---  ------          --------------  -----  \n",
      " 0   Size            540 non-null    int64  \n",
      " 1   Collection      540 non-null    object \n",
      " 2   Description     540 non-null    object \n",
      " 3   RRP             540 non-null    float64\n",
      " 4   Complication_0  540 non-null    object \n",
      " 5   Complication_1  540 non-null    object \n",
      "dtypes: float64(1), int64(1), object(4)\n",
      "memory usage: 29.5+ KB\n"
     ]
    }
   ],
   "source": [
    "df.info()"
   ]
  },
  {
   "cell_type": "code",
   "execution_count": 6,
   "metadata": {},
   "outputs": [
    {
     "data": {
      "text/plain": [
       "Text(0.5, 0, 'Price')"
      ]
     },
     "execution_count": 6,
     "metadata": {},
     "output_type": "execute_result"
    },
    {
     "data": {
      "image/png": "[encoded data removed]",
      "text/plain": [
       "<Figure size 432x288 with 1 Axes>"
      ]
     },
     "metadata": {
      "needs_background": "light"
     },
     "output_type": "display_data"
    }
   ],
   "source": [
    "df[\"RRP\"].plot.box(vert=False)\n",
    "plt.xlabel(\"Price\")"
   ]
  },
  {
   "cell_type": "code",
   "execution_count": 7,
   "metadata": {},
   "outputs": [
    {
     "data": {
      "text/plain": [
       "array(['Chronograph', 'Date', 'Day Date', 'Regatta Chronograph',\n",
       "       'Dual Time'], dtype=object)"
      ]
     },
     "execution_count": 7,
     "metadata": {},
     "output_type": "execute_result"
    }
   ],
   "source": [
    "df[\"Complication_0\"].unique()"
   ]
  },
  {
   "cell_type": "code",
   "execution_count": 8,
   "metadata": {},
   "outputs": [
    {
     "data": {
      "text/plain": [
       "array([' Small Seconds', ' Stop Seconds', ' GMT', ' Date', ' Diver',\n",
       "       ' Day and Night Indicator', ' Moonphase'], dtype=object)"
      ]
     },
     "execution_count": 8,
     "metadata": {},
     "output_type": "execute_result"
    }
   ],
   "source": [
    "df[\"Complication_1\"].unique()"
   ]
  },
  {
   "cell_type": "code",
   "execution_count": 9,
   "metadata": {},
   "outputs": [
    {
     "data": {
      "text/plain": [
       "array([40, 36, 41, 28, 44, 31, 42, 43, 37, 39], dtype=int64)"
      ]
     },
     "execution_count": 9,
     "metadata": {},
     "output_type": "execute_result"
    }
   ],
   "source": [
    "df[\"Size\"].unique()"
   ]
  },
  {
   "cell_type": "code",
   "execution_count": 23,
   "metadata": {},
   "outputs": [
    {
     "data": {
      "text/plain": [
       "array(['Mother of Pearl Diamond Dial\\xa0President Bracelet',\n",
       "       'Diamond Dial Oyster Bracelet', 'Standard Dial Oyster Bracelet',\n",
       "       'Mother of Pearl Diamond Dial Oyster Bracelet',\n",
       "       'Mother of Pearl Diamond Dial', 'Standard Dial',\n",
       "       'Standard Dial President Bracelet', 'Diamond Dial',\n",
       "       'Meteorite Diamond Dial Jubilee Bracelet',\n",
       "       'Mother of Pearl Dial Jubilee Bracelet',\n",
       "       'Diamond Dial President Bracelet', 'Pave Diamond Dial',\n",
       "       'Diamond VI Dial President Bracelet',\n",
       "       'Mother of Pearl Diamond Dial President Bracelet',\n",
       "       'Diamond Emerald Dial', 'Mother of Pearl Dial Oyster Bracelet',\n",
       "       'Pave Sapphire Dial President Bracelet', 'Date',\n",
       "       'Diamond 6 & 9 Dial Jubilee Bracelet',\n",
       "       'Mother of Pearl Diamond Dial Jubilee Bracelet',\n",
       "       'Diamond Dial Jubilee Bracelet', 'Diamond VI Dial JubileeBracelet',\n",
       "       'Diamond VI Dial Oyster Bracelet',\n",
       "       'Mother of Pearl Diamond Dial Diamond\\xa0President Bracelet',\n",
       "       'Malachite Diamond VI IX Dial Oyster Bracelet',\n",
       "       'Mother of Pearl Dial Diamond VI Oyster Bracelet',\n",
       "       'Mother of Pearl Diamond Dial Diamond President Bracelet',\n",
       "       'Standard Dial Jubilee Bracelet', 'Meteorite Diamond Dial',\n",
       "       'Star Diamond Dial Diamond XI Jubilee Bracelet',\n",
       "       'Star Diamond Dial Diamond XI Oyster Bracelet',\n",
       "       'Pave Diamond Dial President Bracelet',\n",
       "       'Pave Mother of Pearl Butterfly Dial President Bracelet',\n",
       "       'Pave Sapphire Dial Diamond President Bracelet',\n",
       "       'Index Diamond Dial Diamond XI President Bracelet',\n",
       "       'Standard Dial Diamond President Bracelet',\n",
       "       'Diamond VI Dial Jubilee Bracelet', 'Mother of Peal Diamond Dial',\n",
       "       'Diamond Index Diamond VI IX Dial Diamond President Bracelet',\n",
       "       'Diamond VI IX Dial Jubilee Bracelet',\n",
       "       'Index Diamond Dial Diamond XI Jubilee Bracelet', '2 colour bezel',\n",
       "       'Meteorite Diamond Dial Oyster Bracelet', 'LV Date',\n",
       "       'Meteorite Diamond Dial President Bracelet',\n",
       "       'Diamond Index Diamond VI IX Dial\\xa0President Bracelet',\n",
       "       'Diamond 6 & 9 Dial Oyster Bracelet',\n",
       "       'Pave Mother of Pearl Butterfly Dial Oyster Bracelet',\n",
       "       'Diamond VI IX Dial Oyster Bracelet', '\\xa0Standard Dial',\n",
       "       'Mother of Pearl Dial Diamond VI Jubilee Bracelet',\n",
       "       'Mother of Pearl Diamond Dial\\xa0Jubilee Bracelet',\n",
       "       'Diamond Dial Diamond\\xa0President Bracelet',\n",
       "       'Star Diamond Dial Diamond XI President Bracelet',\n",
       "       'Lapis Diamond Dial Oyster Bracelet',\n",
       "       'Diamond Emerald Dial Oyster Bracelet',\n",
       "       'Roman Diamond Dial President Bracelet',\n",
       "       'Pave Sapphire Dial\\xa0President Bracelet',\n",
       "       'Diamond Dial\\xa0President Bracelet',\n",
       "       'Diamond Emerald Dial President Bracelet',\n",
       "       'Diamond Dial Diamond President Bracelet',\n",
       "       'Malachite Diamond VI IX Dial President Bracelet',\n",
       "       'Mother of Pearl Diamond VI Dial Oyster Bracelet',\n",
       "       'Mother of Pearl Carousel Diamond Dial Oyster Bracelet',\n",
       "       'Roman Diamond Dial Oyster Bracelet',\n",
       "       'Standard Dial\\xa0President Bracelet',\n",
       "       'Lapis Diamond Dial President Bracelet',\n",
       "       'Bulls Eye Diamond Dial Oyster Bracelet', 'Pave Dial',\n",
       "       'Ferrite Diamond Dial Oyster Bracelet', 'Bulls Eye Diamond Dial',\n",
       "       'Pave Sapphire Dial Diamond\\xa0Diamond\\xa0President Bracelet',\n",
       "       'Lapis Diamond Dial', 'Bulls Eye Diamond Dial President Bracelet',\n",
       "       'Standard Diamond Dial', 'Ferrite Diamond Dial President Bracelet',\n",
       "       'Meteorite Dial', 'Blue Gradient Dial', 'Ferrite Diamond Dial'],\n",
       "      dtype=object)"
      ]
     },
     "execution_count": 23,
     "metadata": {},
     "output_type": "execute_result"
    }
   ],
   "source": [
    "df[\"Description\"].unique()"
   ]
  },
  {
   "cell_type": "code",
   "execution_count": 10,
   "metadata": {},
   "outputs": [
    {
     "data": {
      "text/plain": [
       "array(['Cosmograph Daytona', 'Datejust', 'Deepsea Sea-Dweller',\n",
       "       'GMT-Master II', 'Day-Date', 'Explorer II', 'Sea-Dweller',\n",
       "       'Sky-Dweller', 'Submariner', 'Yacht-Master', 'Yacht-Master II',\n",
       "       'Cellini'], dtype=object)"
      ]
     },
     "execution_count": 10,
     "metadata": {},
     "output_type": "execute_result"
    }
   ],
   "source": [
    "df[\"Collection\"].unique()"
   ]
  },
  {
   "cell_type": "code",
   "execution_count": 11,
   "metadata": {},
   "outputs": [],
   "source": [
    "cutoff=int(len(df[\"RRP\"])*0.8)"
   ]
  },
  {
   "cell_type": "code",
   "execution_count": 12,
   "metadata": {},
   "outputs": [],
   "source": [
    "df=df.sample(frac=1).reset_index(drop=True)"
   ]
  },
  {
   "cell_type": "code",
   "execution_count": null,
   "metadata": {},
   "outputs": [],
   "source": []
  },
  {
   "cell_type": "code",
   "execution_count": 13,
   "metadata": {},
   "outputs": [],
   "source": [
    "feature=df.drop(columns=\"RRP\")\n",
    "target=df[\"RRP\"]\n",
    "\n",
    "X_train,y_train= feature.iloc[:cutoff],target.iloc[:cutoff]\n",
    "X_test,y_test= feature.iloc[cutoff:],target.iloc[cutoff:]"
   ]
  },
  {
   "cell_type": "code",
   "execution_count": 14,
   "metadata": {},
   "outputs": [
    {
     "data": {
      "text/plain": [
       "(432, 5)"
      ]
     },
     "execution_count": 14,
     "metadata": {},
     "output_type": "execute_result"
    }
   ],
   "source": [
    "X_train.shape"
   ]
  },
  {
   "cell_type": "code",
   "execution_count": 15,
   "metadata": {},
   "outputs": [
    {
     "data": {
      "text/plain": [
       "(108,)"
      ]
     },
     "execution_count": 15,
     "metadata": {},
     "output_type": "execute_result"
    }
   ],
   "source": [
    "y_test.shape"
   ]
  },
  {
   "cell_type": "code",
   "execution_count": 16,
   "metadata": {},
   "outputs": [
    {
     "name": "stdout",
     "output_type": "stream",
     "text": [
      "Mean Rolex price: 29001.944444444445\n",
      "Base line: [29001.944444444445, 29001.944444444445, 29001.944444444445, 29001.944444444445, 29001.944444444445]\n",
      "MAE_baseline: 18258.72427983539\n"
     ]
    }
   ],
   "source": [
    "y_mean=y_train.mean()\n",
    "y_base_line=[y_mean]*len(y_train)\n",
    "mae_basline=mean_absolute_error(y_train,y_base_line)\n",
    "print(\"Mean Rolex price:\", y_mean)\n",
    "print(\"Base line:\", y_base_line[:5])\n",
    "print(\"MAE_baseline:\", mae_basline)"
   ]
  },
  {
   "cell_type": "code",
   "execution_count": 17,
   "metadata": {},
   "outputs": [
    {
     "data": {
      "text/plain": [
       "Pipeline(steps=[('onehotencoder',\n",
       "                 OneHotEncoder(cols=['Collection', 'Description',\n",
       "                                     'Complication_0', 'Complication_1'],\n",
       "                               use_cat_names=True)),\n",
       "                ('simpleimputer', SimpleImputer()), ('ridge', Ridge())])"
      ]
     },
     "execution_count": 17,
     "metadata": {},
     "output_type": "execute_result"
    }
   ],
   "source": [
    "model=make_pipeline(\n",
    "    OneHotEncoder(use_cat_names=True),\n",
    "    SimpleImputer(),\n",
    "    Ridge()\n",
    ")\n",
    "model.fit(X_train,y_train)"
   ]
  },
  {
   "cell_type": "code",
   "execution_count": 18,
   "metadata": {},
   "outputs": [
    {
     "name": "stdout",
     "output_type": "stream",
     "text": [
      "Training MAE: 7410.920313397613\n"
     ]
    }
   ],
   "source": [
    "y_pred_training = model.predict(X_train)\n",
    "mae_training = mean_absolute_error(y_train,y_pred_training)\n",
    "print(\"Training MAE:\", mae_training)"
   ]
  },
  {
   "cell_type": "code",
   "execution_count": null,
   "metadata": {},
   "outputs": [],
   "source": []
  },
  {
   "cell_type": "code",
   "execution_count": 19,
   "metadata": {},
   "outputs": [
    {
     "data": {
      "text/plain": [
       "0    18924.558247\n",
       "1    78652.642555\n",
       "2    15240.856532\n",
       "3    15240.856532\n",
       "4    37934.873957\n",
       "dtype: float64"
      ]
     },
     "execution_count": 19,
     "metadata": {},
     "output_type": "execute_result"
    }
   ],
   "source": [
    "y_pred_test = pd.Series(model.predict(X_test))\n",
    "y_pred_test.head()"
   ]
  },
  {
   "cell_type": "code",
   "execution_count": 20,
   "metadata": {},
   "outputs": [
    {
     "name": "stdout",
     "output_type": "stream",
     "text": [
      "Mea test :  9092.809222361671\n"
     ]
    }
   ],
   "source": [
    "mae_test=mean_absolute_error(y_test,y_pred_test)\n",
    "print(\"Mea test : \",mae_test)"
   ]
  },
  {
   "cell_type": "code",
   "execution_count": 26,
   "metadata": {},
   "outputs": [],
   "source": [
    "def make_prediction(Size, Collection,Description,Complication_0,Complication_1):\n",
    "    data={\"Size\":Size,\n",
    "          \"Collection\":Collection,\n",
    "          \"Description\":Description,\n",
    "          \"Complication_0\":Complication_0,\n",
    "           \"Complication_1\":Complication_1,\n",
    "}\n",
    "    df=pd.DataFrame(data,index=[0])\n",
    "    prediction = model.predict(df).round(2)[0]\n",
    "    return f\"Predicted Rolex {Collection} price: ${prediction}\""
   ]
  },
  {
   "cell_type": "code",
   "execution_count": 38,
   "metadata": {},
   "outputs": [
    {
     "data": {
      "text/plain": [
       "'Predicted Rolex Cosmograph Daytona price: $53226.54'"
      ]
     },
     "execution_count": 38,
     "metadata": {},
     "output_type": "execute_result"
    }
   ],
   "source": [
    "make_prediction(40,\"Cosmograph Daytona\",\"Green Dial with Red Accents\",\"Chronograph\",\"Small Seconds\")"
   ]
  },
  {
   "cell_type": "code",
   "execution_count": null,
   "metadata": {},
   "outputs": [],
   "source": []
  }
 ],
 "metadata": {
  "kernelspec": {
   "display_name": "Python 3",
   "language": "python",
   "name": "python3"
  },
  "language_info": {
   "codemirror_mode": {
    "name": "ipython",
    "version": 3
   },
   "file_extension": ".py",
   "mimetype": "text/x-python",
   "name": "python",
   "nbconvert_exporter": "python",
   "pygments_lexer": "ipython3",
   "version": "3.8.5"
  }
 },
 "nbformat": 4,
 "nbformat_minor": 4
}
